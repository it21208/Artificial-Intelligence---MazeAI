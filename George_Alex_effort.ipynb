{
  "nbformat": 4,
  "nbformat_minor": 0,
  "metadata": {
    "colab": {
      "name": "George_Alex_effort.ipynb",
      "version": "0.3.2",
      "provenance": [],
      "collapsed_sections": [],
      "include_colab_link": true
    },
    "kernelspec": {
      "name": "python3",
      "display_name": "Python 3"
    }
  },
  "cells": [
    {
      "cell_type": "markdown",
      "metadata": {
        "id": "view-in-github",
        "colab_type": "text"
      },
      "source": [
        "<a href=\"https://colab.research.google.com/github/it21208/Artificial-Intelligence---MazeAI/blob/master/George_Alex_effort.ipynb\" target=\"_parent\"><img src=\"https://colab.research.google.com/assets/colab-badge.svg\" alt=\"Open In Colab\"/></a>"
      ]
    },
    {
      "cell_type": "code",
      "metadata": {
        "id": "85fHHpsJK0Oh",
        "colab_type": "code",
        "colab": {}
      },
      "source": [
        "# Import Libraries in this section\n",
        "import numpy as np\n",
        "import pandas as pd\n",
        "import seaborn as sns\n",
        "import tensorflow as tf\n",
        "import matplotlib.pyplot as plt\n",
        "from tensorflow.python.tools import inspect_checkpoint as chkp\n",
        "from sklearn.model_selection import train_test_split\n",
        "from matplotlib.colors import ListedColormap\n",
        "from sklearn.tree import DecisionTreeClassifier\n",
        "from tensorflow.contrib.rnn import BasicRNNCell, GRUCell, static_rnn\n",
        "from nltk.corpus import brown\n",
        "from operator import itemgetter\n",
        "from tensorflow.contrib.tensorboard.plugins import projector\n",
        "from tensorflow.python.tools import inspect_checkpoint as chkp\n",
        "import sys, os\n",
        "import re, string\n",
        "import logging, time\n",
        "import operator\n",
        "import math\n",
        "import csv\n",
        "import nltk"
      ],
      "execution_count": 0,
      "outputs": []
    },
    {
      "cell_type": "code",
      "metadata": {
        "id": "q8oh4ZpiLQsv",
        "colab_type": "code",
        "colab": {}
      },
      "source": [
        "# Each new function should be in a new cell\n",
        "def main():\n",
        "  return None"
      ],
      "execution_count": 0,
      "outputs": []
    },
    {
      "cell_type": "code",
      "metadata": {
        "id": "Y63ifocOLJWQ",
        "colab_type": "code",
        "colab": {}
      },
      "source": [
        "# Main logic of our implementation\n",
        "if __name__ == \"__main__\":\n",
        "  logging.basicConfig(level=logging.DEBUG, format='%(asctime)s %(message)s', datefmt='%m/%d/%Y %I:%M:%S ' )\n",
        "  start_time = time.time()\n",
        "  main()\n",
        "  logging.info(f'Run finished in {time.time() - start_time} seconds')"
      ],
      "execution_count": 0,
      "outputs": []
    }
  ]
}